{
 "cells": [
  {
   "cell_type": "code",
   "execution_count": 1,
   "id": "9691a264",
   "metadata": {
    "execution": {
     "iopub.execute_input": "2022-06-29T22:31:00.032484Z",
     "iopub.status.busy": "2022-06-29T22:31:00.031966Z",
     "iopub.status.idle": "2022-06-29T22:31:00.120041Z",
     "shell.execute_reply": "2022-06-29T22:31:00.118948Z"
    },
    "papermill": {
     "duration": 0.099838,
     "end_time": "2022-06-29T22:31:00.124207",
     "exception": false,
     "start_time": "2022-06-29T22:31:00.024369",
     "status": "completed"
    },
    "tags": []
   },
   "outputs": [
    {
     "name": "stderr",
     "output_type": "stream",
     "text": [
      "/opt/conda/lib/python3.7/site-packages/ipykernel_launcher.py:2: FutureWarning: Passing a negative integer is deprecated in version 1.0 and will not be supported in future version. Instead, use None to not limit the column width.\n",
      "  \n"
     ]
    },
    {
     "data": {
      "text/html": [
       "<div>\n",
       "<style scoped>\n",
       "    .dataframe tbody tr th:only-of-type {\n",
       "        vertical-align: middle;\n",
       "    }\n",
       "\n",
       "    .dataframe tbody tr th {\n",
       "        vertical-align: top;\n",
       "    }\n",
       "\n",
       "    .dataframe thead th {\n",
       "        text-align: right;\n",
       "    }\n",
       "</style>\n",
       "<table border=\"1\" class=\"dataframe\">\n",
       "  <thead>\n",
       "    <tr style=\"text-align: right;\">\n",
       "      <th></th>\n",
       "      <th>id</th>\n",
       "      <th>keyword</th>\n",
       "      <th>location</th>\n",
       "      <th>text</th>\n",
       "      <th>target</th>\n",
       "    </tr>\n",
       "  </thead>\n",
       "  <tbody>\n",
       "    <tr>\n",
       "      <th>0</th>\n",
       "      <td>1</td>\n",
       "      <td>NaN</td>\n",
       "      <td>NaN</td>\n",
       "      <td>Our Deeds are the Reason of this #earthquake May ALLAH Forgive us all</td>\n",
       "      <td>1</td>\n",
       "    </tr>\n",
       "    <tr>\n",
       "      <th>1</th>\n",
       "      <td>4</td>\n",
       "      <td>NaN</td>\n",
       "      <td>NaN</td>\n",
       "      <td>Forest fire near La Ronge Sask. Canada</td>\n",
       "      <td>1</td>\n",
       "    </tr>\n",
       "    <tr>\n",
       "      <th>2</th>\n",
       "      <td>5</td>\n",
       "      <td>NaN</td>\n",
       "      <td>NaN</td>\n",
       "      <td>All residents asked to 'shelter in place' are being notified by officers. No other evacuation or shelter in place orders are expected</td>\n",
       "      <td>1</td>\n",
       "    </tr>\n",
       "    <tr>\n",
       "      <th>3</th>\n",
       "      <td>6</td>\n",
       "      <td>NaN</td>\n",
       "      <td>NaN</td>\n",
       "      <td>13,000 people receive #wildfires evacuation orders in California</td>\n",
       "      <td>1</td>\n",
       "    </tr>\n",
       "    <tr>\n",
       "      <th>4</th>\n",
       "      <td>7</td>\n",
       "      <td>NaN</td>\n",
       "      <td>NaN</td>\n",
       "      <td>Just got sent this photo from Ruby #Alaska as smoke from #wildfires pours into a school</td>\n",
       "      <td>1</td>\n",
       "    </tr>\n",
       "  </tbody>\n",
       "</table>\n",
       "</div>"
      ],
      "text/plain": [
       "   id keyword location  \\\n",
       "0  1   NaN     NaN       \n",
       "1  4   NaN     NaN       \n",
       "2  5   NaN     NaN       \n",
       "3  6   NaN     NaN       \n",
       "4  7   NaN     NaN       \n",
       "\n",
       "                                                                                                                                    text  \\\n",
       "0  Our Deeds are the Reason of this #earthquake May ALLAH Forgive us all                                                                   \n",
       "1  Forest fire near La Ronge Sask. Canada                                                                                                  \n",
       "2  All residents asked to 'shelter in place' are being notified by officers. No other evacuation or shelter in place orders are expected   \n",
       "3  13,000 people receive #wildfires evacuation orders in California                                                                        \n",
       "4  Just got sent this photo from Ruby #Alaska as smoke from #wildfires pours into a school                                                 \n",
       "\n",
       "   target  \n",
       "0  1       \n",
       "1  1       \n",
       "2  1       \n",
       "3  1       \n",
       "4  1       "
      ]
     },
     "execution_count": 1,
     "metadata": {},
     "output_type": "execute_result"
    }
   ],
   "source": [
    "import pandas as pd\n",
    "pd.set_option('display.max_colwidth', -1)\n",
    "\n",
    "train_data = pd.read_csv('/kaggle/input/nlp-getting-started/train.csv')\n",
    "train_data.head()"
   ]
  },
  {
   "cell_type": "code",
   "execution_count": 2,
   "id": "423e31ef",
   "metadata": {
    "execution": {
     "iopub.execute_input": "2022-06-29T22:31:00.137496Z",
     "iopub.status.busy": "2022-06-29T22:31:00.136612Z",
     "iopub.status.idle": "2022-06-29T22:31:00.172585Z",
     "shell.execute_reply": "2022-06-29T22:31:00.171315Z"
    },
    "papermill": {
     "duration": 0.045772,
     "end_time": "2022-06-29T22:31:00.175585",
     "exception": false,
     "start_time": "2022-06-29T22:31:00.129813",
     "status": "completed"
    },
    "tags": []
   },
   "outputs": [
    {
     "data": {
      "text/html": [
       "<div>\n",
       "<style scoped>\n",
       "    .dataframe tbody tr th:only-of-type {\n",
       "        vertical-align: middle;\n",
       "    }\n",
       "\n",
       "    .dataframe tbody tr th {\n",
       "        vertical-align: top;\n",
       "    }\n",
       "\n",
       "    .dataframe thead th {\n",
       "        text-align: right;\n",
       "    }\n",
       "</style>\n",
       "<table border=\"1\" class=\"dataframe\">\n",
       "  <thead>\n",
       "    <tr style=\"text-align: right;\">\n",
       "      <th></th>\n",
       "      <th>id</th>\n",
       "      <th>keyword</th>\n",
       "      <th>location</th>\n",
       "      <th>text</th>\n",
       "    </tr>\n",
       "  </thead>\n",
       "  <tbody>\n",
       "    <tr>\n",
       "      <th>0</th>\n",
       "      <td>0</td>\n",
       "      <td>NaN</td>\n",
       "      <td>NaN</td>\n",
       "      <td>Just happened a terrible car crash</td>\n",
       "    </tr>\n",
       "    <tr>\n",
       "      <th>1</th>\n",
       "      <td>2</td>\n",
       "      <td>NaN</td>\n",
       "      <td>NaN</td>\n",
       "      <td>Heard about #earthquake is different cities, stay safe everyone.</td>\n",
       "    </tr>\n",
       "    <tr>\n",
       "      <th>2</th>\n",
       "      <td>3</td>\n",
       "      <td>NaN</td>\n",
       "      <td>NaN</td>\n",
       "      <td>there is a forest fire at spot pond, geese are fleeing across the street, I cannot save them all</td>\n",
       "    </tr>\n",
       "    <tr>\n",
       "      <th>3</th>\n",
       "      <td>9</td>\n",
       "      <td>NaN</td>\n",
       "      <td>NaN</td>\n",
       "      <td>Apocalypse lighting. #Spokane #wildfires</td>\n",
       "    </tr>\n",
       "    <tr>\n",
       "      <th>4</th>\n",
       "      <td>11</td>\n",
       "      <td>NaN</td>\n",
       "      <td>NaN</td>\n",
       "      <td>Typhoon Soudelor kills 28 in China and Taiwan</td>\n",
       "    </tr>\n",
       "  </tbody>\n",
       "</table>\n",
       "</div>"
      ],
      "text/plain": [
       "   id keyword location  \\\n",
       "0  0   NaN     NaN       \n",
       "1  2   NaN     NaN       \n",
       "2  3   NaN     NaN       \n",
       "3  9   NaN     NaN       \n",
       "4  11  NaN     NaN       \n",
       "\n",
       "                                                                                               text  \n",
       "0  Just happened a terrible car crash                                                                \n",
       "1  Heard about #earthquake is different cities, stay safe everyone.                                  \n",
       "2  there is a forest fire at spot pond, geese are fleeing across the street, I cannot save them all  \n",
       "3  Apocalypse lighting. #Spokane #wildfires                                                          \n",
       "4  Typhoon Soudelor kills 28 in China and Taiwan                                                     "
      ]
     },
     "execution_count": 2,
     "metadata": {},
     "output_type": "execute_result"
    }
   ],
   "source": [
    "test_data = pd.read_csv('/kaggle/input/nlp-getting-started/test.csv')\n",
    "test_data.head()"
   ]
  },
  {
   "cell_type": "code",
   "execution_count": 3,
   "id": "e033c957",
   "metadata": {
    "execution": {
     "iopub.execute_input": "2022-06-29T22:31:00.190363Z",
     "iopub.status.busy": "2022-06-29T22:31:00.189274Z",
     "iopub.status.idle": "2022-06-29T22:31:00.206872Z",
     "shell.execute_reply": "2022-06-29T22:31:00.205885Z"
    },
    "papermill": {
     "duration": 0.027556,
     "end_time": "2022-06-29T22:31:00.209286",
     "exception": false,
     "start_time": "2022-06-29T22:31:00.181730",
     "status": "completed"
    },
    "tags": []
   },
   "outputs": [
    {
     "data": {
      "text/html": [
       "<div>\n",
       "<style scoped>\n",
       "    .dataframe tbody tr th:only-of-type {\n",
       "        vertical-align: middle;\n",
       "    }\n",
       "\n",
       "    .dataframe tbody tr th {\n",
       "        vertical-align: top;\n",
       "    }\n",
       "\n",
       "    .dataframe thead th {\n",
       "        text-align: right;\n",
       "    }\n",
       "</style>\n",
       "<table border=\"1\" class=\"dataframe\">\n",
       "  <thead>\n",
       "    <tr style=\"text-align: right;\">\n",
       "      <th></th>\n",
       "      <th>id</th>\n",
       "      <th>target</th>\n",
       "    </tr>\n",
       "  </thead>\n",
       "  <tbody>\n",
       "    <tr>\n",
       "      <th>0</th>\n",
       "      <td>0</td>\n",
       "      <td>0</td>\n",
       "    </tr>\n",
       "    <tr>\n",
       "      <th>1</th>\n",
       "      <td>2</td>\n",
       "      <td>0</td>\n",
       "    </tr>\n",
       "    <tr>\n",
       "      <th>2</th>\n",
       "      <td>3</td>\n",
       "      <td>0</td>\n",
       "    </tr>\n",
       "    <tr>\n",
       "      <th>3</th>\n",
       "      <td>9</td>\n",
       "      <td>0</td>\n",
       "    </tr>\n",
       "    <tr>\n",
       "      <th>4</th>\n",
       "      <td>11</td>\n",
       "      <td>0</td>\n",
       "    </tr>\n",
       "  </tbody>\n",
       "</table>\n",
       "</div>"
      ],
      "text/plain": [
       "   id  target\n",
       "0  0   0     \n",
       "1  2   0     \n",
       "2  3   0     \n",
       "3  9   0     \n",
       "4  11  0     "
      ]
     },
     "execution_count": 3,
     "metadata": {},
     "output_type": "execute_result"
    }
   ],
   "source": [
    "sample_submission = pd.read_csv('/kaggle/input/nlp-getting-started/sample_submission.csv')\n",
    "sample_submission.head()"
   ]
  },
  {
   "cell_type": "code",
   "execution_count": 4,
   "id": "836218f1",
   "metadata": {
    "execution": {
     "iopub.execute_input": "2022-06-29T22:31:00.224422Z",
     "iopub.status.busy": "2022-06-29T22:31:00.223635Z",
     "iopub.status.idle": "2022-06-29T22:31:00.243575Z",
     "shell.execute_reply": "2022-06-29T22:31:00.242199Z"
    },
    "papermill": {
     "duration": 0.031251,
     "end_time": "2022-06-29T22:31:00.246702",
     "exception": false,
     "start_time": "2022-06-29T22:31:00.215451",
     "status": "completed"
    },
    "tags": []
   },
   "outputs": [
    {
     "name": "stdout",
     "output_type": "stream",
     "text": [
      "Data types:\n",
      "id          int64 \n",
      "keyword     object\n",
      "location    object\n",
      "text        object\n",
      "target      int64 \n",
      "dtype: object\n",
      "\n",
      "Rows and columns:\n",
      "(7613, 5)\n",
      "\n",
      "Column names:\n",
      "Index(['id', 'keyword', 'location', 'text', 'target'], dtype='object')\n",
      "\n",
      "Null values:\n",
      "id          0.000000\n",
      "keyword     0.008013\n",
      "location    0.332720\n",
      "text        0.000000\n",
      "target      0.000000\n",
      "dtype: float64\n"
     ]
    }
   ],
   "source": [
    "def describe_data(df):\n",
    "    \n",
    "    print('Data types:')\n",
    "    print(df.dtypes)\n",
    "\n",
    "    print()\n",
    "    \n",
    "    print('Rows and columns:')\n",
    "    print(df.shape)\n",
    "    \n",
    "    print()\n",
    "    \n",
    "    print('Column names:')\n",
    "    print(df.columns)\n",
    "    \n",
    "    print()\n",
    "    \n",
    "    print('Null values:')\n",
    "    print(df.apply(lambda x: sum(x.isnull()) / len(df)))\n",
    "\n",
    "describe_data(train_data)"
   ]
  },
  {
   "cell_type": "code",
   "execution_count": 5,
   "id": "055efb1a",
   "metadata": {
    "execution": {
     "iopub.execute_input": "2022-06-29T22:31:00.261715Z",
     "iopub.status.busy": "2022-06-29T22:31:00.260850Z",
     "iopub.status.idle": "2022-06-29T22:31:00.278856Z",
     "shell.execute_reply": "2022-06-29T22:31:00.277603Z"
    },
    "papermill": {
     "duration": 0.028308,
     "end_time": "2022-06-29T22:31:00.281661",
     "exception": false,
     "start_time": "2022-06-29T22:31:00.253353",
     "status": "completed"
    },
    "tags": []
   },
   "outputs": [
    {
     "data": {
      "text/html": [
       "<div>\n",
       "<style scoped>\n",
       "    .dataframe tbody tr th:only-of-type {\n",
       "        vertical-align: middle;\n",
       "    }\n",
       "\n",
       "    .dataframe tbody tr th {\n",
       "        vertical-align: top;\n",
       "    }\n",
       "\n",
       "    .dataframe thead th {\n",
       "        text-align: right;\n",
       "    }\n",
       "</style>\n",
       "<table border=\"1\" class=\"dataframe\">\n",
       "  <thead>\n",
       "    <tr style=\"text-align: right;\">\n",
       "      <th></th>\n",
       "      <th>text</th>\n",
       "      <th>target</th>\n",
       "    </tr>\n",
       "  </thead>\n",
       "  <tbody>\n",
       "    <tr>\n",
       "      <th>0</th>\n",
       "      <td>Our Deeds are the Reason of this #earthquake May ALLAH Forgive us all</td>\n",
       "      <td>1</td>\n",
       "    </tr>\n",
       "    <tr>\n",
       "      <th>1</th>\n",
       "      <td>Forest fire near La Ronge Sask. Canada</td>\n",
       "      <td>1</td>\n",
       "    </tr>\n",
       "    <tr>\n",
       "      <th>2</th>\n",
       "      <td>All residents asked to 'shelter in place' are being notified by officers. No other evacuation or shelter in place orders are expected</td>\n",
       "      <td>1</td>\n",
       "    </tr>\n",
       "    <tr>\n",
       "      <th>3</th>\n",
       "      <td>13,000 people receive #wildfires evacuation orders in California</td>\n",
       "      <td>1</td>\n",
       "    </tr>\n",
       "    <tr>\n",
       "      <th>4</th>\n",
       "      <td>Just got sent this photo from Ruby #Alaska as smoke from #wildfires pours into a school</td>\n",
       "      <td>1</td>\n",
       "    </tr>\n",
       "  </tbody>\n",
       "</table>\n",
       "</div>"
      ],
      "text/plain": [
       "                                                                                                                                    text  \\\n",
       "0  Our Deeds are the Reason of this #earthquake May ALLAH Forgive us all                                                                   \n",
       "1  Forest fire near La Ronge Sask. Canada                                                                                                  \n",
       "2  All residents asked to 'shelter in place' are being notified by officers. No other evacuation or shelter in place orders are expected   \n",
       "3  13,000 people receive #wildfires evacuation orders in California                                                                        \n",
       "4  Just got sent this photo from Ruby #Alaska as smoke from #wildfires pours into a school                                                 \n",
       "\n",
       "   target  \n",
       "0  1       \n",
       "1  1       \n",
       "2  1       \n",
       "3  1       \n",
       "4  1       "
      ]
     },
     "execution_count": 5,
     "metadata": {},
     "output_type": "execute_result"
    }
   ],
   "source": [
    "train_data = train_data.drop(['id', 'keyword', 'location'], axis=1)\n",
    "train_data.head()"
   ]
  },
  {
   "cell_type": "code",
   "execution_count": 6,
   "id": "463e043f",
   "metadata": {
    "execution": {
     "iopub.execute_input": "2022-06-29T22:31:00.295123Z",
     "iopub.status.busy": "2022-06-29T22:31:00.294356Z",
     "iopub.status.idle": "2022-06-29T22:31:00.524943Z",
     "shell.execute_reply": "2022-06-29T22:31:00.523402Z"
    },
    "papermill": {
     "duration": 0.240682,
     "end_time": "2022-06-29T22:31:00.528012",
     "exception": false,
     "start_time": "2022-06-29T22:31:00.287330",
     "status": "completed"
    },
    "tags": []
   },
   "outputs": [
    {
     "data": {
      "text/html": [
       "<div>\n",
       "<style scoped>\n",
       "    .dataframe tbody tr th:only-of-type {\n",
       "        vertical-align: middle;\n",
       "    }\n",
       "\n",
       "    .dataframe tbody tr th {\n",
       "        vertical-align: top;\n",
       "    }\n",
       "\n",
       "    .dataframe thead th {\n",
       "        text-align: right;\n",
       "    }\n",
       "</style>\n",
       "<table border=\"1\" class=\"dataframe\">\n",
       "  <thead>\n",
       "    <tr style=\"text-align: right;\">\n",
       "      <th></th>\n",
       "      <th>text</th>\n",
       "      <th>target</th>\n",
       "    </tr>\n",
       "  </thead>\n",
       "  <tbody>\n",
       "    <tr>\n",
       "      <th>0</th>\n",
       "      <td>our deeds are the reason of this earthquake may allah forgive us all</td>\n",
       "      <td>1</td>\n",
       "    </tr>\n",
       "    <tr>\n",
       "      <th>1</th>\n",
       "      <td>forest fire near la ronge sask canada</td>\n",
       "      <td>1</td>\n",
       "    </tr>\n",
       "    <tr>\n",
       "      <th>2</th>\n",
       "      <td>all residents asked to shelter in place are being notified by officers no other evacuation or shelter in place orders are expected</td>\n",
       "      <td>1</td>\n",
       "    </tr>\n",
       "    <tr>\n",
       "      <th>3</th>\n",
       "      <td>13000 people receive wildfires evacuation orders in california</td>\n",
       "      <td>1</td>\n",
       "    </tr>\n",
       "    <tr>\n",
       "      <th>4</th>\n",
       "      <td>just got sent this photo from ruby alaska as smoke from wildfires pours into a school</td>\n",
       "      <td>1</td>\n",
       "    </tr>\n",
       "  </tbody>\n",
       "</table>\n",
       "</div>"
      ],
      "text/plain": [
       "                                                                                                                                 text  \\\n",
       "0  our deeds are the reason of this earthquake may allah forgive us all                                                                 \n",
       "1  forest fire near la ronge sask canada                                                                                                \n",
       "2  all residents asked to shelter in place are being notified by officers no other evacuation or shelter in place orders are expected   \n",
       "3  13000 people receive wildfires evacuation orders in california                                                                       \n",
       "4  just got sent this photo from ruby alaska as smoke from wildfires pours into a school                                                \n",
       "\n",
       "   target  \n",
       "0  1       \n",
       "1  1       \n",
       "2  1       \n",
       "3  1       \n",
       "4  1       "
      ]
     },
     "execution_count": 6,
     "metadata": {},
     "output_type": "execute_result"
    }
   ],
   "source": [
    "import re\n",
    "\n",
    "def clean_text(df, text_field):\n",
    "    df[text_field] = df[text_field].str.lower()\n",
    "    df[text_field] = df[text_field].apply(lambda elem: re.sub(r\"(@[A-Za-z0-9]+)|([^0-9A-Za-z \\t])|(\\w+:\\/\\/\\S+)|^rt|http.+?\", \"\", elem))  # nts: unsure exactly what this is doing\n",
    "    return df\n",
    "\n",
    "data_clean = clean_text(train_data, \"text\")\n",
    "data_clean.head()"
   ]
  },
  {
   "cell_type": "code",
   "execution_count": 7,
   "id": "808986be",
   "metadata": {
    "execution": {
     "iopub.execute_input": "2022-06-29T22:31:00.542727Z",
     "iopub.status.busy": "2022-06-29T22:31:00.542341Z",
     "iopub.status.idle": "2022-06-29T22:31:02.586288Z",
     "shell.execute_reply": "2022-06-29T22:31:02.584824Z"
    },
    "papermill": {
     "duration": 2.054196,
     "end_time": "2022-06-29T22:31:02.588789",
     "exception": false,
     "start_time": "2022-06-29T22:31:00.534593",
     "status": "completed"
    },
    "tags": []
   },
   "outputs": [
    {
     "data": {
      "text/html": [
       "<div>\n",
       "<style scoped>\n",
       "    .dataframe tbody tr th:only-of-type {\n",
       "        vertical-align: middle;\n",
       "    }\n",
       "\n",
       "    .dataframe tbody tr th {\n",
       "        vertical-align: top;\n",
       "    }\n",
       "\n",
       "    .dataframe thead th {\n",
       "        text-align: right;\n",
       "    }\n",
       "</style>\n",
       "<table border=\"1\" class=\"dataframe\">\n",
       "  <thead>\n",
       "    <tr style=\"text-align: right;\">\n",
       "      <th></th>\n",
       "      <th>text</th>\n",
       "      <th>target</th>\n",
       "    </tr>\n",
       "  </thead>\n",
       "  <tbody>\n",
       "    <tr>\n",
       "      <th>0</th>\n",
       "      <td>deeds reason earthquake may allah forgive us</td>\n",
       "      <td>1</td>\n",
       "    </tr>\n",
       "    <tr>\n",
       "      <th>1</th>\n",
       "      <td>forest fire near la ronge sask canada</td>\n",
       "      <td>1</td>\n",
       "    </tr>\n",
       "    <tr>\n",
       "      <th>2</th>\n",
       "      <td>residents asked shelter place notified officers evacuation shelter place orders expected</td>\n",
       "      <td>1</td>\n",
       "    </tr>\n",
       "    <tr>\n",
       "      <th>3</th>\n",
       "      <td>13000 people receive wildfires evacuation orders california</td>\n",
       "      <td>1</td>\n",
       "    </tr>\n",
       "    <tr>\n",
       "      <th>4</th>\n",
       "      <td>got sent photo ruby alaska smoke wildfires pours school</td>\n",
       "      <td>1</td>\n",
       "    </tr>\n",
       "  </tbody>\n",
       "</table>\n",
       "</div>"
      ],
      "text/plain": [
       "                                                                                       text  \\\n",
       "0  deeds reason earthquake may allah forgive us                                               \n",
       "1  forest fire near la ronge sask canada                                                      \n",
       "2  residents asked shelter place notified officers evacuation shelter place orders expected   \n",
       "3  13000 people receive wildfires evacuation orders california                                \n",
       "4  got sent photo ruby alaska smoke wildfires pours school                                    \n",
       "\n",
       "   target  \n",
       "0  1       \n",
       "1  1       \n",
       "2  1       \n",
       "3  1       \n",
       "4  1       "
      ]
     },
     "execution_count": 7,
     "metadata": {},
     "output_type": "execute_result"
    }
   ],
   "source": [
    "from nltk.corpus import stopwords\n",
    "\n",
    "stop = stopwords.words('english')\n",
    "data_clean['text'] = data_clean['text'].apply(lambda x: ' '.join([word for word in x.split() if word not in (stop)]))\n",
    "\n",
    "data_clean.head()"
   ]
  },
  {
   "cell_type": "code",
   "execution_count": 8,
   "id": "c759e2f9",
   "metadata": {
    "execution": {
     "iopub.execute_input": "2022-06-29T22:31:02.603627Z",
     "iopub.status.busy": "2022-06-29T22:31:02.603097Z",
     "iopub.status.idle": "2022-06-29T22:31:02.613635Z",
     "shell.execute_reply": "2022-06-29T22:31:02.611974Z"
    },
    "papermill": {
     "duration": 0.021942,
     "end_time": "2022-06-29T22:31:02.616912",
     "exception": false,
     "start_time": "2022-06-29T22:31:02.594970",
     "status": "completed"
    },
    "tags": []
   },
   "outputs": [],
   "source": [
    "from sklearn.model_selection import train_test_split\n",
    "\n",
    "X_train, X_valid, y_train, y_valid = train_test_split(data_clean['text'], data_clean['target'], random_state=0) "
   ]
  },
  {
   "cell_type": "code",
   "execution_count": 9,
   "id": "0b77e271",
   "metadata": {
    "execution": {
     "iopub.execute_input": "2022-06-29T22:31:02.633068Z",
     "iopub.status.busy": "2022-06-29T22:31:02.631794Z",
     "iopub.status.idle": "2022-06-29T22:31:02.803312Z",
     "shell.execute_reply": "2022-06-29T22:31:02.801820Z"
    },
    "papermill": {
     "duration": 0.184258,
     "end_time": "2022-06-29T22:31:02.807786",
     "exception": false,
     "start_time": "2022-06-29T22:31:02.623528",
     "status": "completed"
    },
    "tags": []
   },
   "outputs": [],
   "source": [
    "from sklearn.pipeline import Pipeline\n",
    "from sklearn.feature_extraction.text import CountVectorizer\n",
    "from sklearn.feature_extraction.text import TfidfVectorizer\n",
    "from sklearn.feature_extraction.text import TfidfTransformer\n",
    "from sklearn.linear_model import SGDClassifier\n",
    "\n",
    "pipeline_sgd = Pipeline([\n",
    "    ('vect', CountVectorizer()),\n",
    "    ('tfidf', TfidfTransformer()),\n",
    "    ('nb', SGDClassifier()),\n",
    "])\n",
    "\n",
    "model = pipeline_sgd.fit(X_train, y_train)"
   ]
  },
  {
   "cell_type": "code",
   "execution_count": 10,
   "id": "38f9323c",
   "metadata": {
    "execution": {
     "iopub.execute_input": "2022-06-29T22:31:02.836021Z",
     "iopub.status.busy": "2022-06-29T22:31:02.835583Z",
     "iopub.status.idle": "2022-06-29T22:31:02.904207Z",
     "shell.execute_reply": "2022-06-29T22:31:02.903261Z"
    },
    "papermill": {
     "duration": 0.087738,
     "end_time": "2022-06-29T22:31:02.908012",
     "exception": false,
     "start_time": "2022-06-29T22:31:02.820274",
     "status": "completed"
    },
    "tags": []
   },
   "outputs": [
    {
     "name": "stdout",
     "output_type": "stream",
     "text": [
      "              precision    recall  f1-score   support\n",
      "\n",
      "           0       0.80      0.85      0.83      1107\n",
      "           1       0.78      0.71      0.74       797\n",
      "\n",
      "    accuracy                           0.79      1904\n",
      "   macro avg       0.79      0.78      0.78      1904\n",
      "weighted avg       0.79      0.79      0.79      1904\n",
      "\n"
     ]
    }
   ],
   "source": [
    "from sklearn.metrics import classification_report\n",
    "\n",
    "y_preds = model.predict(X_valid)\n",
    "print(classification_report(y_valid, y_preds))"
   ]
  },
  {
   "cell_type": "code",
   "execution_count": 11,
   "id": "ebec3786",
   "metadata": {
    "execution": {
     "iopub.execute_input": "2022-06-29T22:31:02.924341Z",
     "iopub.status.busy": "2022-06-29T22:31:02.923521Z",
     "iopub.status.idle": "2022-06-29T22:31:03.119977Z",
     "shell.execute_reply": "2022-06-29T22:31:03.118689Z"
    },
    "papermill": {
     "duration": 0.207522,
     "end_time": "2022-06-29T22:31:03.122629",
     "exception": false,
     "start_time": "2022-06-29T22:31:02.915107",
     "status": "completed"
    },
    "tags": []
   },
   "outputs": [
    {
     "data": {
      "text/plain": [
       "0    just happened a terrible car crash                                                            \n",
       "1    heard about earthquake is different cities stay safe everyone                                 \n",
       "2    there is a forest fire at spot pond geese are fleeing across the street i cannot save them all\n",
       "3    apocalypse lighting spokane wildfires                                                         \n",
       "4    typhoon soudelor kills 28 in china and taiwan                                                 \n",
       "Name: text, dtype: object"
      ]
     },
     "execution_count": 11,
     "metadata": {},
     "output_type": "execute_result"
    }
   ],
   "source": [
    "test_data_clean = test_data.copy()\n",
    "test_data_clean = clean_text(test_data_clean, \"text\")\n",
    "test_data_clean['text'].apply(lambda x: ' '.join([word for word in x.split() if word not in (stop)]))\n",
    "test_data_clean = test_data_clean['text']\n",
    "\n",
    "test_data_clean.head()"
   ]
  },
  {
   "cell_type": "code",
   "execution_count": 12,
   "id": "9c3a47db",
   "metadata": {
    "execution": {
     "iopub.execute_input": "2022-06-29T22:31:03.137600Z",
     "iopub.status.busy": "2022-06-29T22:31:03.137038Z",
     "iopub.status.idle": "2022-06-29T22:31:03.212072Z",
     "shell.execute_reply": "2022-06-29T22:31:03.210585Z"
    },
    "papermill": {
     "duration": 0.086186,
     "end_time": "2022-06-29T22:31:03.215196",
     "exception": false,
     "start_time": "2022-06-29T22:31:03.129010",
     "status": "completed"
    },
    "tags": []
   },
   "outputs": [],
   "source": [
    "test_preds = model.predict(test_data_clean)"
   ]
  },
  {
   "cell_type": "code",
   "execution_count": 13,
   "id": "8c625ed8",
   "metadata": {
    "execution": {
     "iopub.execute_input": "2022-06-29T22:31:03.230657Z",
     "iopub.status.busy": "2022-06-29T22:31:03.230121Z",
     "iopub.status.idle": "2022-06-29T22:31:03.244780Z",
     "shell.execute_reply": "2022-06-29T22:31:03.243381Z"
    },
    "papermill": {
     "duration": 0.025774,
     "end_time": "2022-06-29T22:31:03.247610",
     "exception": false,
     "start_time": "2022-06-29T22:31:03.221836",
     "status": "completed"
    },
    "tags": []
   },
   "outputs": [
    {
     "data": {
      "text/html": [
       "<div>\n",
       "<style scoped>\n",
       "    .dataframe tbody tr th:only-of-type {\n",
       "        vertical-align: middle;\n",
       "    }\n",
       "\n",
       "    .dataframe tbody tr th {\n",
       "        vertical-align: top;\n",
       "    }\n",
       "\n",
       "    .dataframe thead th {\n",
       "        text-align: right;\n",
       "    }\n",
       "</style>\n",
       "<table border=\"1\" class=\"dataframe\">\n",
       "  <thead>\n",
       "    <tr style=\"text-align: right;\">\n",
       "      <th></th>\n",
       "      <th>id</th>\n",
       "      <th>target</th>\n",
       "    </tr>\n",
       "  </thead>\n",
       "  <tbody>\n",
       "    <tr>\n",
       "      <th>0</th>\n",
       "      <td>0</td>\n",
       "      <td>1</td>\n",
       "    </tr>\n",
       "    <tr>\n",
       "      <th>1</th>\n",
       "      <td>2</td>\n",
       "      <td>0</td>\n",
       "    </tr>\n",
       "    <tr>\n",
       "      <th>2</th>\n",
       "      <td>3</td>\n",
       "      <td>1</td>\n",
       "    </tr>\n",
       "    <tr>\n",
       "      <th>3</th>\n",
       "      <td>9</td>\n",
       "      <td>1</td>\n",
       "    </tr>\n",
       "    <tr>\n",
       "      <th>4</th>\n",
       "      <td>11</td>\n",
       "      <td>1</td>\n",
       "    </tr>\n",
       "  </tbody>\n",
       "</table>\n",
       "</div>"
      ],
      "text/plain": [
       "   id  target\n",
       "0  0   1     \n",
       "1  2   0     \n",
       "2  3   1     \n",
       "3  9   1     \n",
       "4  11  1     "
      ]
     },
     "execution_count": 13,
     "metadata": {},
     "output_type": "execute_result"
    }
   ],
   "source": [
    "id_col = test_data['id']\n",
    "submission_df_1 = pd.DataFrame({\n",
    "    'id': id_col,\n",
    "    'target': test_preds\n",
    "})\n",
    "\n",
    "submission_df_1.head()"
   ]
  },
  {
   "cell_type": "code",
   "execution_count": 14,
   "id": "fbfc5879",
   "metadata": {
    "execution": {
     "iopub.execute_input": "2022-06-29T22:31:03.264182Z",
     "iopub.status.busy": "2022-06-29T22:31:03.263132Z",
     "iopub.status.idle": "2022-06-29T22:31:03.277892Z",
     "shell.execute_reply": "2022-06-29T22:31:03.276960Z"
    },
    "papermill": {
     "duration": 0.025948,
     "end_time": "2022-06-29T22:31:03.280620",
     "exception": false,
     "start_time": "2022-06-29T22:31:03.254672",
     "status": "completed"
    },
    "tags": []
   },
   "outputs": [],
   "source": [
    "submission_df_1.to_csv('submission_1.csv', index=False)"
   ]
  }
 ],
 "metadata": {
  "kernelspec": {
   "display_name": "Python 3",
   "language": "python",
   "name": "python3"
  },
  "language_info": {
   "codemirror_mode": {
    "name": "ipython",
    "version": 3
   },
   "file_extension": ".py",
   "mimetype": "text/x-python",
   "name": "python",
   "nbconvert_exporter": "python",
   "pygments_lexer": "ipython3",
   "version": "3.7.12"
  },
  "papermill": {
   "default_parameters": {},
   "duration": 15.045777,
   "end_time": "2022-06-29T22:31:04.111376",
   "environment_variables": {},
   "exception": null,
   "input_path": "__notebook__.ipynb",
   "output_path": "__notebook__.ipynb",
   "parameters": {},
   "start_time": "2022-06-29T22:30:49.065599",
   "version": "2.3.4"
  }
 },
 "nbformat": 4,
 "nbformat_minor": 5
}
